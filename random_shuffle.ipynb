{
  "nbformat": 4,
  "nbformat_minor": 0,
  "metadata": {
    "colab": {
      "name": "random shuffle.ipynb",
      "provenance": []
    },
    "kernelspec": {
      "name": "python3",
      "display_name": "Python 3"
    }
  },
  "cells": [
    {
      "cell_type": "code",
      "metadata": {
        "id": "WmAtnlWu_gMk",
        "colab_type": "code",
        "colab": {
          "base_uri": "https://localhost:8080/",
          "height": 34
        },
        "outputId": "bf08a8ab-bfdc-4a56-f156-1ae91fcae4f2"
      },
      "source": [
        "import random\n",
        "list11= [100,1,2,3,30,40,\"hai\",\"hello\"]\n",
        "random.shuffle(list11)\n",
        "print(list11)"
      ],
      "execution_count": 1,
      "outputs": [
        {
          "output_type": "stream",
          "text": [
            "['hai', 2, 3, 'hello', 30, 40, 1, 100]\n"
          ],
          "name": "stdout"
        }
      ]
    }
  ]
}