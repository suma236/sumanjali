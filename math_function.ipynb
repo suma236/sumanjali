{
  "nbformat": 4,
  "nbformat_minor": 0,
  "metadata": {
    "colab": {
      "name": "math function.ipynb",
      "provenance": []
    },
    "kernelspec": {
      "name": "python3",
      "display_name": "Python 3"
    }
  },
  "cells": [
    {
      "cell_type": "code",
      "metadata": {
        "id": "_oZW0GWa9EAm",
        "colab_type": "code",
        "colab": {
          "base_uri": "https://localhost:8080/",
          "height": 185
        },
        "outputId": "c1f47ac4-bb93-4bb4-b2b6-b2114a1aaa08"
      },
      "source": [
        "import math\n",
        "print(math.sin(math.pi/3)) \n",
        "print(math.cos(math.pi)) \n",
        "print(math.tan(math.pi/2)) \n",
        "print(math.sin(0.8660254037844386))\n",
        "print(math.pow(5, 8))\n",
        "print(math.sqrt(400))\n",
        "print(math.exp(5))\n",
        "print(math.log2(1024))\n",
        "print(math.log10(1024))\n",
        "print(math.floor(23.56),math.ceil(23.56))"
      ],
      "execution_count": 1,
      "outputs": [
        {
          "output_type": "stream",
          "text": [
            "0.8660254037844386\n",
            "-1.0\n",
            "1.633123935319537e+16\n",
            "0.7617599814162892\n",
            "390625.0\n",
            "20.0\n",
            "148.4131591025766\n",
            "10.0\n",
            "3.010299956639812\n",
            "23 24\n"
          ],
          "name": "stdout"
        }
      ]
    }
  ]
}