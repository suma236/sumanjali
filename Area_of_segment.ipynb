{
  "nbformat": 4,
  "nbformat_minor": 0,
  "metadata": {
    "colab": {
      "name": "Area of segment.ipynb",
      "provenance": []
    },
    "kernelspec": {
      "name": "python3",
      "display_name": "Python 3"
    }
  },
  "cells": [
    {
      "cell_type": "code",
      "metadata": {
        "id": "cSQR9V5zsOAg",
        "colab_type": "code",
        "colab": {
          "base_uri": "https://localhost:8080/",
          "height": 50
        },
        "outputId": "7366dfc5-ff2d-403d-ec79-70ef2170d5e6"
      },
      "source": [
        "import math \n",
        "  \n",
        "pi = 3.14159\n",
        "  \n",
        " \n",
        "def area_of_segment(radius, angle): \n",
        "    area_of_sector = pi * (radius * radius) * (angle / 360) \n",
        "  \n",
        "   \n",
        "    area_of_triangle = 1 / 2 * (radius * radius) * math.sin((angle * pi) / 180) \n",
        "  \n",
        "    return area_of_sector - area_of_triangle; \n",
        "  \n",
        "  \n",
        "\n",
        "radius = 10.0\n",
        "angle = 90.0\n",
        "print(\"Area of minor segment =\", \n",
        "       area_of_segment(radius, angle)) \n",
        "print(\"Area of major segment =\", \n",
        "      area_of_segment(radius, (360 - angle))) \n",
        "        "
      ],
      "execution_count": 4,
      "outputs": [
        {
          "output_type": "stream",
          "text": [
            "Area of minor segment = 28.53975000004401\n",
            "Area of major segment = 285.6192499996039\n"
          ],
          "name": "stdout"
        }
      ]
    }
  ]
}