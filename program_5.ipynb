{
  "nbformat": 4,
  "nbformat_minor": 0,
  "metadata": {
    "colab": {
      "name": "program 5.ipynb",
      "provenance": []
    },
    "kernelspec": {
      "name": "python3",
      "display_name": "Python 3"
    }
  },
  "cells": [
    {
      "cell_type": "code",
      "metadata": {
        "id": "UIECxFru_Dda",
        "colab_type": "code",
        "colab": {
          "base_uri": "https://localhost:8080/",
          "height": 34
        },
        "outputId": "75ff1130-d173-4f8b-8c47-691435b3a3f3"
      },
      "source": [
        "import random\n",
        "rnum = random.randrange(1, 110000,50)\n",
        "print(\"Random integer: \", rnum)"
      ],
      "execution_count": null,
      "outputs": [
        {
          "output_type": "stream",
          "text": [
            "Random integer:  96501\n"
          ],
          "name": "stdout"
        }
      ]
    }
  ]
}